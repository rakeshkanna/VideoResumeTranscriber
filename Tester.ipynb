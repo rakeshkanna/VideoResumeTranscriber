{
 "cells": [
  {
   "cell_type": "code",
   "execution_count": null,
   "metadata": {},
   "outputs": [],
   "source": [
    "import Transcriber as tc"
   ]
  },
  {
   "cell_type": "code",
   "execution_count": null,
   "metadata": {},
   "outputs": [],
   "source": [
    "tc.transcribeVideoFile(\"C:\\\\Users\\\\rakesh.khanna\\\\Downloads\\\\TestAudio\\\\ShortVideoResume.mp4\")"
   ]
  },
  {
   "cell_type": "code",
   "execution_count": null,
   "metadata": {},
   "outputs": [],
   "source": [
    "targetpath = \"C:\\\\Users\\\\rakesh.khanna\\\\Downloads\\\\TestAudio\\\\Text\\\\ShortVideoResume.txt\"\n",
    "text=()\n",
    "with open(targetpath, \"r\") as f:\n",
    "    text = f.readlines()\n",
    "print(text)"
   ]
  },
  {
   "cell_type": "code",
   "execution_count": null,
   "metadata": {},
   "outputs": [],
   "source": [
    "import nltk\n",
    "from nltk.corpus import stopwords\n",
    "from nltk.tokenize import word_tokenize\n",
    "\n",
    "def pre_process_doc(document):\n",
    "  print(document)\n",
    "  document = document.lower().replace('\\n','')\n",
    "  document_words = word_tokenize(document)\n",
    "  stopword = stopwords.words('english')\n",
    "  words = [word for word in document_words if word not in stopword]\n",
    "  document = \" \".join(words)\n",
    "  return document"
   ]
  },
  {
   "cell_type": "code",
   "execution_count": null,
   "metadata": {},
   "outputs": [],
   "source": [
    "documents = [pre_process_doc(document) for document in text]\n",
    "print(documents)"
   ]
  },
  {
   "cell_type": "code",
   "execution_count": null,
   "metadata": {},
   "outputs": [],
   "source": [
    "nltk.download('words')"
   ]
  },
  {
   "cell_type": "code",
   "execution_count": null,
   "metadata": {},
   "outputs": [],
   "source": [
    "import nltk\n",
    "from nltk import word_tokenize,pos_tag\n",
    "finaltext = \"\"\n",
    "for document in text:\n",
    "    finaltext = finaltext+document \n",
    "tokens = word_tokenize(finaltext)\n",
    "tag=pos_tag(tokens)\n",
    "#print(tag)\n",
    "ne_tree = nltk.ne_chunk(tag)\n",
    "print(ne_tree)\n"
   ]
  },
  {
   "cell_type": "code",
   "execution_count": null,
   "metadata": {},
   "outputs": [],
   "source": [
    "pip install spacy\n",
    "import spacy\n",
    "nlp =spacy.load(\"en_core_web_sm\")\n",
    "sentence = \"apple is looking at buying U.K. startup for $1 billion\"\n",
    "doc = nlp(sentence)\n",
    "for ent in doc.ents:\n",
    "    print(ent.text, ent.label_)\n",
    "    "
   ]
  }
 ],
 "metadata": {
  "kernelspec": {
   "display_name": "Python 3.9.12 ('base')",
   "language": "python",
   "name": "python3"
  },
  "language_info": {
   "name": "python",
   "version": "3.9.12"
  },
  "orig_nbformat": 4,
  "vscode": {
   "interpreter": {
    "hash": "6f5583cf1d9466b5c27e75c89cc6b383bed5736d6b16c51c8074d8690011a952"
   }
  }
 },
 "nbformat": 4,
 "nbformat_minor": 2
}
