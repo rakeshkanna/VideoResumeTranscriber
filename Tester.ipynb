{
 "cells": [
  {
   "cell_type": "code",
   "execution_count": null,
   "metadata": {},
   "outputs": [],
   "source": [
    "import pandas as pd"
   ]
  },
  {
   "cell_type": "code",
   "execution_count": null,
   "metadata": {},
   "outputs": [],
   "source": [
    "jobfunctions = pd.read_csv(\"D:\\\\models\\\\JobFunction.csv\",encoding='utf8',delimiter='\\t')\n",
    "jobfunctions = jobfunctions.columns\n",
    "jobIndustries = pd.read_csv(\"D:\\\\models\\\\JobIndustry.csv\",encoding='utf8',delimiter='\\t')\n",
    "jobIndustries = jobIndustries.columns\n",
    "jobTitles = pd.read_csv(\"D:\\\\models\\\\JobTitle.csv\",encoding='utf8',delimiter='\\t')\n",
    "jobTitles = jobTitles.columns\n",
    "jobLevels = pd.read_csv(\"D:\\\\models\\\\JobLevel.csv\",encoding='utf8',delimiter='\\t')\n",
    "jobLevels = jobLevels.columns\n"
   ]
  },
  {
   "cell_type": "code",
   "execution_count": null,
   "metadata": {},
   "outputs": [],
   "source": [
    "my_file = open(\"D:\\\\models\\\\Resumes\\\\texts\\\\Amy Marcov LHH Resume - Clean Draft.txt\", \"r\", encoding='utf8').read()\n",
    "offsets=[]\n",
    "labels=[]\n",
    "for jobLevel in jobLevels:\n",
    "    result = my_file.find(jobLevel)\n",
    "    if (result > 0) and (result not in offsets) and (jobLevel not in labels):\n",
    "        labels.append(jobLevel)\n",
    "        offsets.append(result)\n",
    "        print('{')\n",
    "        print('\"category\": \"JobLevel\",')\n",
    "        print(f'\"offset\":{result},')\n",
    "        print(f'\"length\":{len(jobLevel)}')\n",
    "        print('},')\n",
    "for jobFunction in jobfunctions:\n",
    "    result = my_file.find(jobFunction)\n",
    "    if (result>0) and (result not in offsets) and (jobFunction not in labels):\n",
    "        offsets.append(result)\n",
    "        labels.append(jobFunction)\n",
    "        print('{')\n",
    "        print('\"category\": \"JobFunction\",')\n",
    "        print(f'\"offset\":{result},')\n",
    "        print(f'\"length\":{len(jobFunction)}')\n",
    "        print('},')\n",
    "for jobIndustry in jobIndustries:\n",
    "    result = my_file.find(jobIndustry)\n",
    "    if (result>0) and (result not in offsets) and (jobIndustry not in labels):\n",
    "        offsets.append(result)\n",
    "        labels.append(jobIndustry)\n",
    "        print('{')\n",
    "        print('\"category\": \"JobIndustry\",')\n",
    "        print(f'\"offset\":{result},')\n",
    "        print(f'\"length\":{len(jobIndustry)}')\n",
    "        print('},')\n",
    "for jobTitle in jobTitles:\n",
    "    result = my_file.find(jobTitle)\n",
    "    if (result>0) and (result not in offsets) and (jobTitle not in labels):\n",
    "        offsets.append(result)\n",
    "        labels.append(jobTitle)\n",
    "        print('{')\n",
    "        print('\"category\": \"JobTitle\",')\n",
    "        print(f'\"offset\":{result},')\n",
    "        print(f'\"length\":{len(jobTitle)}')\n",
    "        print('},')"
   ]
  },
  {
   "cell_type": "code",
   "execution_count": null,
   "metadata": {},
   "outputs": [],
   "source": [
    "key = \"febf8b322e1345e3848ae4eed3ae3bb7\"\n",
    "endpoint = 'https://rknerresume.cognitiveservices.azure.com/'\n",
    "from azure.core.credentials import AzureKeyCredential\n",
    "from azure.ai.textanalytics import TextAnalyticsClient\n",
    "from azure.ai.textanalytics import RecognizeCustomEntitiesAction\n",
    "project_name = \"rknermodels\"\n",
    "deployment_name = \"rknerdeployment\"\n",
    "document_path = \"D:\\\\models\\\\Resumes\\\\texts\\\\Cindy Loveday Resume LHH - Clean Draft.txt\"\n",
    "text_analytics_client = TextAnalyticsClient(endpoint=endpoint, credential=AzureKeyCredential(key))\n",
    "with open(document_path) as f:\n",
    "    document = [f.read()]\n",
    "poller = text_analytics_client.begin_analyze_actions(\n",
    "        document,\n",
    "        actions=[\n",
    "            RecognizeCustomEntitiesAction(\n",
    "                project_name=project_name, deployment_name=deployment_name\n",
    "            ),\n",
    "        ],\n",
    "    )\n",
    "document_result = poller.result()\n",
    "document_result\n",
    " \n"
   ]
  },
  {
   "cell_type": "code",
   "execution_count": null,
   "metadata": {},
   "outputs": [],
   "source": [
    "from tkinter import *\n",
    "import tkinter as tk\n",
    "from tkVideoPlayer import TkinterVideo\n",
    "root = tk.Tk()\n",
    "videoplayer = TkinterVideo(master=root,scaled=True)\n",
    "videoplayer.load(\"D:\\\\models\\\\Resumes\\\\videos\\\\Resume.mp4\")\n",
    "videoplayer.pack(expand=True, fill=\"both\")\n",
    "videoplayer.play() # play the video\n",
    "\n",
    "root.mainloop()\n"
   ]
  },
  {
   "cell_type": "code",
   "execution_count": null,
   "metadata": {},
   "outputs": [],
   "source": [
    "import vlc"
   ]
  }
 ],
 "metadata": {
  "kernelspec": {
   "display_name": "base",
   "language": "python",
   "name": "python3"
  },
  "language_info": {
   "codemirror_mode": {
    "name": "ipython",
    "version": 3
   },
   "file_extension": ".py",
   "mimetype": "text/x-python",
   "name": "python",
   "nbconvert_exporter": "python",
   "pygments_lexer": "ipython3",
   "version": "3.9.13"
  },
  "orig_nbformat": 4,
  "vscode": {
   "interpreter": {
    "hash": "e4cce46d6be9934fbd27f9ca0432556941ea5bdf741d4f4d64c6cd7f8dfa8fba"
   }
  }
 },
 "nbformat": 4,
 "nbformat_minor": 2
}
